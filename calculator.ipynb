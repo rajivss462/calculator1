{
 "cells": [
  {
   "cell_type": "code",
   "execution_count": 1,
   "id": "92914299-d626-438d-950c-8554b1f0e0c2",
   "metadata": {},
   "outputs": [
    {
     "name": "stdout",
     "output_type": "stream",
     "text": [
      "~~~~~~~~mini~~~~~~~~\n"
     ]
    },
    {
     "name": "stdin",
     "output_type": "stream",
     "text": [
      "enter first number: 34\n",
      "enter 2nd number: 24\n"
     ]
    },
    {
     "name": "stdout",
     "output_type": "stream",
     "text": [
      "press 1 for addition \n",
      "press 2 for subtraction \n",
      "press 3 for multiplication \n",
      "press 4 for division\n"
     ]
    },
    {
     "name": "stdin",
     "output_type": "stream",
     "text": [
      "enter your choice from 1-4 3\n"
     ]
    },
    {
     "name": "stdout",
     "output_type": "stream",
     "text": [
      "the multiplication of given two number is 816.0\n"
     ]
    }
   ],
   "source": [
    "print(\"~~~~~~~~mini~~~~~~~~\")\n",
    "num1 = float(input(\"enter first number:\"))\n",
    "num2 = float(input(\"enter 2nd number:\"))\n",
    "\n",
    "print(\"press 1 for addition \\npress 2 for subtraction \\npress 3 for multiplication \\npress 4 for division\")\n",
    "\n",
    "choice = int(input(\"enter your choice from 1-4\"))\n",
    "if choice == 1:\n",
    "    print (\"the addition of given two number is\",num1+num2)\n",
    "elif choice == 2:\n",
    "    print (\"the subtraction of given two number is\",num1-num2)\n",
    "elif choice == 3:\n",
    "    print(\"the multiplication of given two number is\",num1*num2)\n",
    "elif choice == 4:\n",
    "    print(\"the division of given two number is\",num1/num2)\n",
    "                \n",
    "else:\n",
    "    print(\"invalid input\")"
   ]
  },
  {
   "cell_type": "code",
   "execution_count": null,
   "id": "add72e3a-f819-4ddb-9681-3b53d620a576",
   "metadata": {},
   "outputs": [],
   "source": []
  }
 ],
 "metadata": {
  "kernelspec": {
   "display_name": "Python 3 (ipykernel)",
   "language": "python",
   "name": "python3"
  },
  "language_info": {
   "codemirror_mode": {
    "name": "ipython",
    "version": 3
   },
   "file_extension": ".py",
   "mimetype": "text/x-python",
   "name": "python",
   "nbconvert_exporter": "python",
   "pygments_lexer": "ipython3",
   "version": "3.10.8"
  }
 },
 "nbformat": 4,
 "nbformat_minor": 5
}
